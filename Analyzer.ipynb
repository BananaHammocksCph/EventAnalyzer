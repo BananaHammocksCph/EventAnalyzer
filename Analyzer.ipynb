{
 "cells": [
  {
   "cell_type": "code",
   "execution_count": 3,
   "metadata": {},
   "outputs": [],
   "source": [
    "import pandas as pd"
   ]
  },
  {
   "cell_type": "code",
   "execution_count": 145,
   "metadata": {},
   "outputs": [
    {
     "data": {
      "text/html": [
       "<div>\n",
       "<style scoped>\n",
       "    .dataframe tbody tr th:only-of-type {\n",
       "        vertical-align: middle;\n",
       "    }\n",
       "\n",
       "    .dataframe tbody tr th {\n",
       "        vertical-align: top;\n",
       "    }\n",
       "\n",
       "    .dataframe thead th {\n",
       "        text-align: right;\n",
       "    }\n",
       "</style>\n",
       "<table border=\"1\" class=\"dataframe\">\n",
       "  <thead>\n",
       "    <tr style=\"text-align: right;\">\n",
       "      <th></th>\n",
       "      <th>_id</th>\n",
       "      <th>Users</th>\n",
       "      <th>Type</th>\n",
       "    </tr>\n",
       "  </thead>\n",
       "  <tbody>\n",
       "    <tr>\n",
       "      <th>0</th>\n",
       "      <td>ObjectId(5df172e2cd46ec15c3fbe987)</td>\n",
       "      <td>[{\"$oid\":\"5df204961d448316e0c69998\"},{\"$oid\":\"...</td>\n",
       "      <td>PARTY</td>\n",
       "    </tr>\n",
       "    <tr>\n",
       "      <th>1</th>\n",
       "      <td>ObjectId(5df20b9e1d448316e0c6999d)</td>\n",
       "      <td>[{\"$oid\":\"5df204961d448316e0c69998\"},{\"$oid\":\"...</td>\n",
       "      <td>MEETING</td>\n",
       "    </tr>\n",
       "    <tr>\n",
       "      <th>2</th>\n",
       "      <td>ObjectId(5df20f0e1d448316e0c699a4)</td>\n",
       "      <td>[{\"$oid\":\"5df204961d448316e0c69998\"},{\"$oid\":\"...</td>\n",
       "      <td>PARTY</td>\n",
       "    </tr>\n",
       "    <tr>\n",
       "      <th>3</th>\n",
       "      <td>ObjectId(5df20fc11d448316e0c699a5)</td>\n",
       "      <td>[]</td>\n",
       "      <td>LECTURE</td>\n",
       "    </tr>\n",
       "    <tr>\n",
       "      <th>4</th>\n",
       "      <td>ObjectId(5df230123044cc4f089cfa06)</td>\n",
       "      <td>[{\"$oid\":\"5df204961d448316e0c69998\"},{\"$oid\":\"...</td>\n",
       "      <td>LECTURE</td>\n",
       "    </tr>\n",
       "    <tr>\n",
       "      <th>5</th>\n",
       "      <td>ObjectId(5df242bd3044cc4f089cfa09)</td>\n",
       "      <td>[{\"$oid\":\"5df204961d448316e0c69998\"},{\"$oid\":\"...</td>\n",
       "      <td>LECTURE</td>\n",
       "    </tr>\n",
       "  </tbody>\n",
       "</table>\n",
       "</div>"
      ],
      "text/plain": [
       "                                  _id  \\\n",
       "0  ObjectId(5df172e2cd46ec15c3fbe987)   \n",
       "1  ObjectId(5df20b9e1d448316e0c6999d)   \n",
       "2  ObjectId(5df20f0e1d448316e0c699a4)   \n",
       "3  ObjectId(5df20fc11d448316e0c699a5)   \n",
       "4  ObjectId(5df230123044cc4f089cfa06)   \n",
       "5  ObjectId(5df242bd3044cc4f089cfa09)   \n",
       "\n",
       "                                               Users     Type  \n",
       "0  [{\"$oid\":\"5df204961d448316e0c69998\"},{\"$oid\":\"...    PARTY  \n",
       "1  [{\"$oid\":\"5df204961d448316e0c69998\"},{\"$oid\":\"...  MEETING  \n",
       "2  [{\"$oid\":\"5df204961d448316e0c69998\"},{\"$oid\":\"...    PARTY  \n",
       "3                                                 []  LECTURE  \n",
       "4  [{\"$oid\":\"5df204961d448316e0c69998\"},{\"$oid\":\"...  LECTURE  \n",
       "5  [{\"$oid\":\"5df204961d448316e0c69998\"},{\"$oid\":\"...  LECTURE  "
      ]
     },
     "execution_count": 145,
     "metadata": {},
     "output_type": "execute_result"
    }
   ],
   "source": [
    "df = pd.read_csv(r'./eventDump.csv')\n",
    "\n",
    "df"
   ]
  },
  {
   "cell_type": "code",
   "execution_count": 164,
   "metadata": {
    "scrolled": true
   },
   "outputs": [],
   "source": [
    "## Trying to get unique users\n",
    "\n",
    "users = []\n",
    "\n",
    "def distinct_user(user):\n",
    "    for i in user:\n",
    "        if{i not in u}:\n",
    "            users.append(i)\n",
    "            \n",
    "        \n",
    "        if {i in u}:\n",
    "            break\n",
    "                     \n",
    "            \n",
    "distinct_user(df['Users'])\n"
   ]
  },
  {
   "cell_type": "code",
   "execution_count": 154,
   "metadata": {},
   "outputs": [
    {
     "data": {
      "text/plain": [
       "0    [{\"$oid\":\"5df204961d448316e0c69998\"},{\"$oid\":\"...\n",
       "1    [{\"$oid\":\"5df204961d448316e0c69998\"},{\"$oid\":\"...\n",
       "2    [{\"$oid\":\"5df204961d448316e0c69998\"},{\"$oid\":\"...\n",
       "3                                                   []\n",
       "4    [{\"$oid\":\"5df204961d448316e0c69998\"},{\"$oid\":\"...\n",
       "5    [{\"$oid\":\"5df204961d448316e0c69998\"},{\"$oid\":\"...\n",
       "Name: Users, dtype: object"
      ]
     },
     "execution_count": 154,
     "metadata": {},
     "output_type": "execute_result"
    }
   ],
   "source": [
    "#df['distinctUsers' ] = df.apply(lambda x : distinctUser(x['Users']), axis = 1)\n",
    "\n",
    "df['Users'] "
   ]
  },
  {
   "cell_type": "code",
   "execution_count": 161,
   "metadata": {},
   "outputs": [
    {
     "name": "stdout",
     "output_type": "stream",
     "text": [
      "PARTY\n",
      "MEETING\n",
      "PARTY\n",
      "LECTURE\n",
      "LECTURE\n",
      "LECTURE\n"
     ]
    }
   ],
   "source": [
    "## This is a function for running through each row and checking for distinct users, not really good, but could serve as inspiration\n",
    "\n",
    "rowCount = len(df.index)\n",
    "\n",
    "def users_per_row():\n",
    "    for i in range(rowCount):\n",
    "        distinct_user(df.iloc[i]['Users'])\n",
    "        print(df.iloc[i]['Type'])\n",
    "\n",
    "users_per_row()\n",
    "\n",
    "\n",
    "#df.iloc[0]['Users']"
   ]
  },
  {
   "cell_type": "code",
   "execution_count": 147,
   "metadata": {},
   "outputs": [],
   "source": [
    "types = df['Users'].groupby(df['Type'])\n"
   ]
  },
  {
   "cell_type": "code",
   "execution_count": 177,
   "metadata": {},
   "outputs": [
    {
     "data": {
      "text/plain": [
       "Type\n",
       "LECTURE    [][{\"$oid\":\"5df204961d448316e0c69998\"},{\"$oid\"...\n",
       "MEETING    [{\"$oid\":\"5df204961d448316e0c69998\"},{\"$oid\":\"...\n",
       "PARTY      [{\"$oid\":\"5df204961d448316e0c69998\"},{\"$oid\":\"...\n",
       "Name: Users, dtype: object"
      ]
     },
     "execution_count": 177,
     "metadata": {},
     "output_type": "execute_result"
    }
   ],
   "source": [
    "types.sum()"
   ]
  },
  {
   "cell_type": "code",
   "execution_count": 151,
   "metadata": {},
   "outputs": [
    {
     "data": {
      "text/plain": [
       "Type\n",
       "LECTURE    [][{\"$oid\":\"5df204961d448316e0c69998\"},{\"$oid\"...\n",
       "MEETING    [{\"$oid\":\"5df204961d448316e0c69998\"},{\"$oid\":\"...\n",
       "PARTY      [{\"$oid\":\"5df204961d448316e0c69998\"},{\"$oid\":\"...\n",
       "Name: Users, dtype: object"
      ]
     },
     "execution_count": 151,
     "metadata": {},
     "output_type": "execute_result"
    }
   ],
   "source": [
    "# Grouping in relation to type, as pandas series\n",
    "\n",
    "pandas_series = df.groupby('Type')['Users'].sum()\n",
    "pandas_series"
   ]
  },
  {
   "cell_type": "code",
   "execution_count": 163,
   "metadata": {},
   "outputs": [
    {
     "data": {
      "text/html": [
       "<div>\n",
       "<style scoped>\n",
       "    .dataframe tbody tr th:only-of-type {\n",
       "        vertical-align: middle;\n",
       "    }\n",
       "\n",
       "    .dataframe tbody tr th {\n",
       "        vertical-align: top;\n",
       "    }\n",
       "\n",
       "    .dataframe thead th {\n",
       "        text-align: right;\n",
       "    }\n",
       "</style>\n",
       "<table border=\"1\" class=\"dataframe\">\n",
       "  <thead>\n",
       "    <tr style=\"text-align: right;\">\n",
       "      <th></th>\n",
       "      <th>Users</th>\n",
       "    </tr>\n",
       "    <tr>\n",
       "      <th>Type</th>\n",
       "      <th></th>\n",
       "    </tr>\n",
       "  </thead>\n",
       "  <tbody>\n",
       "    <tr>\n",
       "      <th>LECTURE</th>\n",
       "      <td>[][{\"$oid\":\"5df204961d448316e0c69998\"},{\"$oid\"...</td>\n",
       "    </tr>\n",
       "    <tr>\n",
       "      <th>MEETING</th>\n",
       "      <td>[{\"$oid\":\"5df204961d448316e0c69998\"},{\"$oid\":\"...</td>\n",
       "    </tr>\n",
       "    <tr>\n",
       "      <th>PARTY</th>\n",
       "      <td>[{\"$oid\":\"5df204961d448316e0c69998\"},{\"$oid\":\"...</td>\n",
       "    </tr>\n",
       "  </tbody>\n",
       "</table>\n",
       "</div>"
      ],
      "text/plain": [
       "                                                     Users\n",
       "Type                                                      \n",
       "LECTURE  [][{\"$oid\":\"5df204961d448316e0c69998\"},{\"$oid\"...\n",
       "MEETING  [{\"$oid\":\"5df204961d448316e0c69998\"},{\"$oid\":\"...\n",
       "PARTY    [{\"$oid\":\"5df204961d448316e0c69998\"},{\"$oid\":\"..."
      ]
     },
     "execution_count": 163,
     "metadata": {},
     "output_type": "execute_result"
    }
   ],
   "source": [
    "# Grouping in relation to type, as pandas dataframe \n",
    "\n",
    "grouped_pandas_df = df.groupby('Type')[['Users']].sum()\n",
    "grouped_pandas_df"
   ]
  },
  {
   "cell_type": "code",
   "execution_count": 204,
   "metadata": {},
   "outputs": [
    {
     "data": {
      "text/plain": [
       "1"
      ]
     },
     "execution_count": 204,
     "metadata": {},
     "output_type": "execute_result"
    }
   ],
   "source": [
    "distinct_user(grouped_pandas_df['Users'])\n",
    "\n",
    "len(users)\n",
    "#users.clear()\n",
    "\n",
    "# doing some weird stuff, printing a long ass string and apparently is 1 user...."
   ]
  },
  {
   "cell_type": "code",
   "execution_count": 205,
   "metadata": {},
   "outputs": [
    {
     "data": {
      "text/plain": [
       "['[][{\"$oid\":\"5df204961d448316e0c69998\"},{\"$oid\":\"5df204961d448316e0c69998\"},{\"$oid\":\"5df204961d448316e0c69998\"}][{\"$oid\":\"5df204961d448316e0c69998\"},{\"$oid\":\"5df204961d448316e0c69998\"},{\"$oid\":\"5df204961d448316e0c69998\"},{\"$oid\":\"5df204961d448316e0c69998\"},{\"$oid\":\"5df204961d448316e0c69998\"},{\"$oid\":\"5df204961d448316e0c69998\"},{\"$oid\":\"5df204961d448316e0c69998\"},{\"$oid\":\"5df204961d448316e0c69998\"},{\"$oid\":\"5df204961d448316e0c69998\"},{\"$oid\":\"5df204961d448316e0c69998\"}]']"
      ]
     },
     "execution_count": 205,
     "metadata": {},
     "output_type": "execute_result"
    }
   ],
   "source": [
    "users"
   ]
  },
  {
   "cell_type": "code",
   "execution_count": 193,
   "metadata": {},
   "outputs": [
    {
     "data": {
      "text/plain": [
       "Type\n",
       "LECTURE    [[], [{\"$oid\":\"5df204961d448316e0c69998\"},{\"$o...\n",
       "MEETING    [[{\"$oid\":\"5df204961d448316e0c69998\"},{\"$oid\":...\n",
       "PARTY      [[{\"$oid\":\"5df204961d448316e0c69998\"},{\"$oid\":...\n",
       "Name: Users, dtype: object"
      ]
     },
     "execution_count": 193,
     "metadata": {},
     "output_type": "execute_result"
    }
   ],
   "source": [
    "grouped = df.groupby('Type')['Users'].unique()\n",
    "grouped"
   ]
  }
 ],
 "metadata": {
  "kernelspec": {
   "display_name": "Python 3",
   "language": "python",
   "name": "python3"
  },
  "language_info": {
   "codemirror_mode": {
    "name": "ipython",
    "version": 3
   },
   "file_extension": ".py",
   "mimetype": "text/x-python",
   "name": "python",
   "nbconvert_exporter": "python",
   "pygments_lexer": "ipython3",
   "version": "3.6.8"
  }
 },
 "nbformat": 4,
 "nbformat_minor": 2
}
